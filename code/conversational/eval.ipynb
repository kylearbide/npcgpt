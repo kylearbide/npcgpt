{
 "cells": [
  {
   "cell_type": "code",
   "execution_count": 1,
   "metadata": {},
   "outputs": [
    {
     "name": "stderr",
     "output_type": "stream",
     "text": [
      "/home/kyle/anaconda3/envs/npcenv/lib/python3.10/site-packages/tqdm/auto.py:22: TqdmWarning: IProgress not found. Please update jupyter and ipywidgets. See https://ipywidgets.readthedocs.io/en/stable/user_install.html\n",
      "  from .autonotebook import tqdm as notebook_tqdm\n"
     ]
    }
   ],
   "source": [
    "from transformers import GPT2Tokenizer, GPT2LMHeadModel\n",
    "from transfer_learning_conversational import SPECIAL_TOKENS, ATTR_TO_SPECIAL_TOKEN, add_special_tokens, build_input_from_segments, get_dataset\n",
    "from build_raw_data import get_bios\n",
    "from itertools import chain\n",
    "import torch\n",
    "import torch.nn.functional as F\n",
    "import random\n",
    "import pandas as pd\n",
    "import nltk.data\n",
    "import re"
   ]
  },
  {
   "cell_type": "code",
   "execution_count": 2,
   "metadata": {},
   "outputs": [],
   "source": [
    "device = 'cuda' if torch.cuda.is_available() else \"cpu\" "
   ]
  },
  {
   "cell_type": "code",
   "execution_count": 3,
   "metadata": {},
   "outputs": [
    {
     "name": "stderr",
     "output_type": "stream",
     "text": [
      "Some weights of the model checkpoint at ./models/gpt2 were not used when initializing GPT2LMHeadModel: ['multiple_choice_head.summary.bias', 'multiple_choice_head.summary.weight']\n",
      "- This IS expected if you are initializing GPT2LMHeadModel from the checkpoint of a model trained on another task or with another architecture (e.g. initializing a BertForSequenceClassification model from a BertForPreTraining model).\n",
      "- This IS NOT expected if you are initializing GPT2LMHeadModel from the checkpoint of a model that you expect to be exactly identical (initializing a BertForSequenceClassification model from a BertForSequenceClassification model).\n"
     ]
    }
   ],
   "source": [
    "tokenizer = GPT2Tokenizer.from_pretrained('./models/gpt2')\n",
    "model = GPT2LMHeadModel.from_pretrained('./models/gpt2')\n",
    "model.to(device)\n",
    "add_special_tokens(model,tokenizer, ATTR_TO_SPECIAL_TOKEN)"
   ]
  },
  {
   "cell_type": "code",
   "execution_count": 4,
   "metadata": {},
   "outputs": [],
   "source": [
    "bios = get_bios()"
   ]
  },
  {
   "cell_type": "code",
   "execution_count": 5,
   "metadata": {},
   "outputs": [],
   "source": [
    "temp = .7\n",
    "min_length = 5\n",
    "max_length = 50\n",
    "no_sample = True"
   ]
  },
  {
   "cell_type": "code",
   "execution_count": 6,
   "metadata": {},
   "outputs": [],
   "source": [
    "def top_filtering(logits, top_k=0., top_p=0.8, threshold=-float('Inf'), filter_value=-float('Inf')):\n",
    "    \"\"\" Filter a distribution of logits using top-k, top-p (nucleus) and/or threshold filtering\n",
    "        Args:\n",
    "            logits: logits distribution shape (vocabulary size)\n",
    "            top_k: <=0: no filtering, >0: keep only top k tokens with highest probability.\n",
    "            top_p: <=0.0: no filtering, >0.0: keep only a subset S of candidates, where S is the smallest subset\n",
    "                whose total probability mass is greater than or equal to the threshold top_p.\n",
    "                In practice, we select the highest probability tokens whose cumulative probability mass exceeds\n",
    "                the threshold top_p.\n",
    "            threshold: a minimal threshold to keep logits\n",
    "    \"\"\"\n",
    "    assert logits.dim() == 1  # Only work for batch size 1 for now - could update but it would obfuscate a bit the code\n",
    "    top_k = min(top_k, logits.size(-1))\n",
    "    if top_k > 0:\n",
    "        # Remove all tokens with a probability less than the last token in the top-k tokens\n",
    "        indices_to_remove = logits < torch.topk(logits, top_k)[0][..., -1, None]\n",
    "        logits[indices_to_remove] = filter_value\n",
    "\n",
    "    if top_p > 0.0:\n",
    "        # Compute cumulative probabilities of sorted tokens\n",
    "        sorted_logits, sorted_indices = torch.sort(logits, descending=True)\n",
    "        cumulative_probabilities = torch.cumsum(F.softmax(sorted_logits, dim=-1), dim=-1)\n",
    "\n",
    "        # Remove tokens with cumulative probability above the threshold\n",
    "        sorted_indices_to_remove = cumulative_probabilities > top_p\n",
    "        # Shift the indices to the right to keep also the first token above the threshold\n",
    "        sorted_indices_to_remove[..., 1:] = sorted_indices_to_remove[..., :-1].clone()\n",
    "        sorted_indices_to_remove[..., 0] = 0\n",
    "\n",
    "        # Back to unsorted indices and set them to -infinity\n",
    "        indices_to_remove = sorted_indices[sorted_indices_to_remove]\n",
    "        logits[indices_to_remove] = filter_value\n",
    "\n",
    "    indices_to_remove = logits < threshold\n",
    "    logits[indices_to_remove] = filter_value\n",
    "\n",
    "    return logits"
   ]
  },
  {
   "cell_type": "code",
   "execution_count": 7,
   "metadata": {},
   "outputs": [],
   "source": [
    "def sample_sequence(personality, history, tokenizer, model):\n",
    "    special_tokens_ids = tokenizer.convert_tokens_to_ids(SPECIAL_TOKENS)\n",
    "    current_output = []\n",
    "    for i in range(max_length):\n",
    "        instance =  build_input_from_segments(personality, history, current_output, tokenizer, with_eos=False)\n",
    "        input_ids = torch.tensor(instance[\"input_ids\"], device=device).unsqueeze(0)\n",
    "        token_type_ids = torch.tensor(instance[\"token_type_ids\"], device=device).unsqueeze(0)\n",
    "        output = model(input_ids, token_type_ids=token_type_ids)\n",
    "        logits = output.logits\n",
    "        if isinstance(logits, tuple):  # for gpt2 and maybe others\n",
    "            logits = logits[0]\n",
    "        logits = logits[0, -1, :] / temp\n",
    "        logits = top_filtering(logits)\n",
    "        probs = F.softmax(logits, dim=-1)\n",
    "        \n",
    "        prev = torch.topk(probs, 1)[1] if no_sample else torch.multinomial(probs, 1)\n",
    "        if i < min_length and prev.item() in special_tokens_ids:\n",
    "            while prev.item() in special_tokens_ids:\n",
    "                if probs.max().item() == 1:\n",
    "                    break  # avoid infinitely looping over special token\n",
    "                prev = torch.multinomial(probs, num_samples=1)\n",
    "\n",
    "        if prev.item() in special_tokens_ids:\n",
    "            break\n",
    "        current_output.append(prev.item())\n",
    "\n",
    "    return current_output\n"
   ]
  },
  {
   "cell_type": "code",
   "execution_count": 8,
   "metadata": {},
   "outputs": [],
   "source": [
    "personalities = pd.read_csv(\"../../data/generative_model_output.csv\")\n",
    "\n",
    "sent_tokenizer = nltk.data.load('tokenizers/punkt/english.pickle')\n",
    "def format_input(text:str) -> str:\n",
    "    \"\"\"\n",
    "    Takes a raw text and formats for the model input. For dialogue and personality, this means all lowercase with a space before any punctuation.\n",
    "    Args:\n",
    "        text: raw text input, cam be dialogue or bio\n",
    "    Returns:\n",
    "        text: text formatted for the model\n",
    "    \"\"\"\n",
    "    text = text.lower()\n",
    "    text = re.sub('([.,!?()])', r' \\1 ', text)\n",
    "    text = re.sub('\\s{2,}', ' ', text)\n",
    "    text = text.strip()\n",
    "    return(text)\n",
    "def tokenize(obj):\n",
    "    if isinstance(obj, str):\n",
    "        return tokenizer.convert_tokens_to_ids(tokenizer.tokenize(obj))\n",
    "    if isinstance(obj, dict):\n",
    "        return dict((n, tokenize(o)) for n, o in obj.items())\n",
    "    return list(tokenize(o) for o in obj)\n"
   ]
  },
  {
   "cell_type": "code",
   "execution_count": 9,
   "metadata": {},
   "outputs": [],
   "source": [
    "full_bios = list(personalities['bio'] + personalities['generated_bio'])\n",
    "full_bios = [bio.lower().split(\"\\n\",1)[0] for bio in full_bios]\n",
    "full_bios = [sent_tokenizer.tokenize(bio) for bio in full_bios]\n",
    "full_bios = [[format_input(sent) for sent in sents] for sents in full_bios]\n",
    "full_bios = tokenize(full_bios)"
   ]
  },
  {
   "cell_type": "code",
   "execution_count": 10,
   "metadata": {},
   "outputs": [
    {
     "name": "stdout",
     "output_type": "stream",
     "text": [
      "zara is a skilled artist who creates unique art pieces for a wide variety of purposes.she is a student at a local high school, who takes classes in all subjects including painting and architecture.she is passionate about music and her love for music can be found in her writings.she has a love for music and enjoys reading her books and<|endoftext|>\n"
     ]
    }
   ],
   "source": [
    "personality = random.choice(full_bios)\n",
    "raw_personality = tokenizer.decode(chain(*personality))\n",
    "name = raw_personality.split(\" \",1)[0]\n",
    "print(raw_personality)"
   ]
  },
  {
   "cell_type": "code",
   "execution_count": 11,
   "metadata": {},
   "outputs": [
    {
     "name": "stdout",
     "output_type": "stream",
     "text": [
      "well, i'm zara, and i'm a student at a local high school. i love painting and architecture, and i'm passionate about music. i also enjoy reading books and writing my own poetry.\n"
     ]
    }
   ],
   "source": [
    "history = []\n",
    "history.append(tokenizer.encode(f\"tell me about yourself .\"))\n",
    "\n",
    "with torch.no_grad():\n",
    "    output = sample_sequence(personality, history, tokenizer, model)\n",
    "    out_text = tokenizer.decode(output, skip_special_tokens=True)\n",
    "print(out_text)"
   ]
  },
  {
   "cell_type": "code",
   "execution_count": 12,
   "metadata": {},
   "outputs": [
    {
     "name": "stdout",
     "output_type": "stream",
     "text": [
      "ah, spring time! it's my favorite season. the flowers are in full bloom and the air is crisp. it's the perfect time to start planting new crops and experimenting with new techniques.\n"
     ]
    }
   ],
   "source": [
    "history = []\n",
    "history.append(tokenizer.encode(\"make a comment about the spring time .\"))\n",
    "\n",
    "with torch.no_grad():\n",
    "    output = sample_sequence(personality, history, tokenizer, model)\n",
    "    out_text = tokenizer.decode(output, skip_special_tokens=True)\n",
    "print(out_text)"
   ]
  },
  {
   "cell_type": "code",
   "execution_count": 13,
   "metadata": {},
   "outputs": [
    {
     "name": "stdout",
     "output_type": "stream",
     "text": [
      "the tuna is a type of fish that can be caught in the ocean during the summer and fall seasons. it can be caught in the ocean during the summer and fall seasons, and can be sold for a moderate profit or used in various recipes. \n"
     ]
    }
   ],
   "source": [
    "history = []\n",
    "history.append(tokenizer.encode(\"tell me about the tuna fish . \"))\n",
    "\n",
    "with torch.no_grad():\n",
    "    output = sample_sequence(personality, history, tokenizer, model)\n",
    "    out_text = tokenizer.decode(output, skip_special_tokens=True)\n",
    "print(out_text)"
   ]
  },
  {
   "cell_type": "code",
   "execution_count": 17,
   "metadata": {},
   "outputs": [
    {
     "name": "stdout",
     "output_type": "stream",
     "text": [
      "hey there, i heard you're quite the farmer, would you be willing to help me out by collecting 10 fresh strawberries for my next painting project? \n"
     ]
    }
   ],
   "source": [
    "history = []\n",
    "history.append(tokenizer.encode(\"give me a quest to collect a spring crop . \"))\n",
    "\n",
    "with torch.no_grad():\n",
    "    output = sample_sequence(personality, history, tokenizer, model)\n",
    "    out_text = tokenizer.decode(output, skip_special_tokens=True)\n",
    "print(out_text)"
   ]
  },
  {
   "cell_type": "code",
   "execution_count": 15,
   "metadata": {},
   "outputs": [
    {
     "name": "stdout",
     "output_type": "stream",
     "text": [
      "hey there, i'm zara, and i'm in need of 10 lava crabs for my latest painting project, could you do me a favor and slay 10 of them for me? \n"
     ]
    }
   ],
   "source": [
    "history = []\n",
    "history.append(tokenizer.encode(\"give me a quest to slay mobs . \"))\n",
    "\n",
    "with torch.no_grad():\n",
    "    output = sample_sequence(personality, history, tokenizer, model)\n",
    "    out_text = tokenizer.decode(output, skip_special_tokens=True)\n",
    "print(out_text)"
   ]
  },
  {
   "cell_type": "code",
   "execution_count": 16,
   "metadata": {},
   "outputs": [
    {
     "name": "stdout",
     "output_type": "stream",
     "text": [
      "hey there, i heard you're quite the adventurer, would you be willing to help me out by collecting 10 pieces of fall-crab for me?  - grey.\n",
      "hey there, i heard you're quite the adventurer, would you be willing to help me out by collecting 10 of them for me? \n",
      "hey there, i heard you're quite the adventurer - could you bring me 10 of them for a special project i'm working on?  - nora.\n",
      "hey there, i heard you're quite the adventurer, would you be willing to help me out by collecting 10 of them for me?  - kieran.\n",
      "hey there, farmer! i've been brewing some delicious corn fall beers lately, would you be willing to help me out by collecting 10 of them for me?  - zachary.\n",
      "hey there, i heard you're quite the adventurer - could you bring me 10 cranberries for my next photo shoot?  - quinn.\n",
      "hey there, i heard you're quite the adventurer - could you bring me 10 eggplants for my next hunt?  - travis.\n",
      "hey there, i heard you're quite the adventurer, would you be willing to help me out by collecting 10 fairy roses for my latest creation?  - brian.\n",
      "hey there, i heard you're quite the adventurer - could you bring me 10 of them for my next archery project?  - zachary.\n",
      "hey there, i heard you're quite the adventurer, would you be willing to help me out by collecting 10 pumpkin leaves for my latest creation?  - alexa.\n",
      "hey there, i heard you're quite the adventurer - could you bring me 10 of them? i'll make it worth your while!  - tyler.\n",
      "hey there, i heard you're quite the farmer, would you be willing to help me out by collecting 10 wheat for my next project?  - sage.\n",
      "hey there, i'm matt, and i'm in need of 10 bundles of yam fall leaves for a special performance at the comedy club, can you help me out? \n",
      "hey there, i heard you're quite the fisherman, would you be willing to catch 5 of them for me?  - fiona.\n",
      "hey there, i heard you're quite the fisherman, would you be willing to catch me 10 of them for a special project i'm working on?  - riley\n",
      "hey there, i heard you're quite the fisherman, would you be willing to catch me 5 of them for me?  - tuna\n",
      "hey there, i heard you're quite the fisherman, would you be willing to catch me 10 of them for me?  - alex from stardew valley.\n",
      "hey there, i heard you're quite the fisherman, would you be willing to catch me 5 of them for a special project i'm working on? \n",
      "hey there, i heard you're quite the fisherman, would you be willing to catch me 10 of them for me?  - hazel.\n",
      "hey there, i heard you're quite the fisherman, would you be willing to catch 10 of them for me?  - alex from stardew valley.\n",
      "hey there, i heard you're quite the fisherman, could you bring me 10 of them for a new painting project i'm working on?  - lyra\n",
      "hey there, i heard you're quite the fisherman, would you be willing to catch me 5 of them for my gym's upcoming yoga class?  - greta.\n",
      "hey there, i've been searching for some walleye for a while now, could you bring me 10 of them?  - jack.\n",
      "hey there, i heard you're quite the fisherman, would you be willing to catch me 5 of them for me?  - sofia.\n",
      "hey there, i heard you're quite the fisherman, would you be willing to catch me 5 of them for me?  - carp from stardew valley.\n",
      "hey there, i heard you're quite the fisherman, would you be willing to catch 10 of them for me?  - lily\n",
      "hey there, i heard you're quite the fisherman, would you be willing to catch me 5 pike for my latest dish?  - zane.\n",
      "hey there, i heard you're quite the fisherman, would you be willing to catch me 10 sunfish for my next dance performance?  - maria.\n",
      "i need you to collect 10 red mullets for me, and don't hesitate to ask for help if you need any help.  - max.\n",
      "hey there, i heard you're quite the fisherman, could you bring me 10 of them for a new painting project i'm working on?  - lyra\n",
      "hey there, i heard you're quite the fisherman, would you be willing to catch me 5 eels for my latest creation?  - nina\n",
      "hey there, i heard you're quite the fisherman, would you be willing to catch me 10 octopus for my latest fashion line?  - lily\n",
      "hey there, i heard you're quite the fisherman, would you be willing to catch me 10 of them for my latest experiment?  - cassius.\n",
      "hey there, i heard you're quite the fisherman, would you be willing to catch me 10 squid for my next ride through the winding roads?  - rocco\n",
      "hey there, i heard you're quite the fisherman, would you be willing to catch me 10 of them for my latest musical project?  - ethan.\n",
      "hey there, i heard you're quite the fisherman, could you bring me 10 of them for a special fitness center project i'm working on?  - mason.\n",
      "hey there, i'm luna, and i'm in need of 10 sea cucumber for a new stained glass project i'm working on, would you be willing to help me out? \n",
      "hey there, i heard you're quite the fisherman, could you do me a favor and bring me 10 super cucumber fish? i need them for a new painting project i'm working on.  - leila\n",
      "hey there, i heard you're quite the fisherman, would you be willing to catch me 5 ghostfish for my latest art project?  - ruby\n",
      "hey there, i heard you're quite the fisherman, would you be willing to catch 5 of them for me?  - penny.\n",
      "hey there, i'm max, and i'm in need of 10 fresh tilapia for a new fitness routine i'm working on, think you could help me out? \n",
      "hey there, i heard you're quite the fisherman, would you be willing to catch me 10 of them for my latest painting project?  - rachel.\n",
      "hey there, i'm in need of some fresh salmon for a new fashion line, would you be willing to help me out?  - alex from stardew valley.\n",
      "hey there, i heard you're quite the fisherman, would you be willing to catch me 5 ice carp for my latest fishing project?  - zayn.\n",
      "hey there, i heard you're quite the fisherman, could you bring me 10 of them for a special glassware project i'm working on?  - ruby.\n",
      "hey there, i heard you're quite the fisherman, would you be willing to catch me 10 of them for me?  - lucy from stardew valley.\n",
      "hey there, i heard you're quite the fisherman, would you be willing to catch me 10 of them for a special project i'm working on?  - riley\n",
      "april: hey there, i heard you're quite the fisherman, would you be willing to catch me 10 scorpion carp for my travel agency's upcoming trip? \n",
      "hey there, i heard you're quite the fisherman, would you be willing to catch me 5 of them for my latest botanical experiment?  - luna\n",
      "hey there, i heard you're quite the fisherman, could you bring me 10 of them for a project i'm working on?  - david.\n",
      "hey there, i heard you're quite the fisherman, would you be willing to catch me 5 mutant carp for my latest experiment?  - sage\n",
      "hey there, i heard you're quite the fisherman, would you be willing to catch 5 of them for me?  - willow\n",
      "hey there, i heard you're quite the fisherman, would you be willing to catch me 10 tiger trout for my latest mining project?  - logan.\n",
      "hey there, i heard you're quite the fisherman, would you be willing to catch me 5 of them for a special recipe i'm working on?  - sofia\n",
      "hey there, i heard you're quite the fisherman, would you be willing to catch me 10 of them for a special project i'm working on? \n",
      "hey there, i heard you're quite the fisherman, could you bring me 10 chub for my latest ice-skating project?  - cedric.\n",
      "hey there, i heard you're quite the fisherman, would you be willing to catch me 5 of them for me?  - zane.\n",
      "hey there, i'm in need of some fresh salmon for a new tattoo project, could you bring me 10 of them?  - charles\n",
      "hey there, i heard you're quite the fisherman, would you be willing to catch me 10 shad for my latest adventure?  - nadia\n",
      "hey there, i heard you're quite the fisherman, would you be willing to catch me 5 squid for a special event i'm organizing?  - adam.\n",
      "hey there, i heard you're quite the fisherman, would you be willing to catch me 5 halibut for my latest chiropractor project? \n",
      "hey there, i heard you're quite the fisherman, would you be willing to catch me 10 of them for me?  - julia.\n",
      "hey there, i heard you're quite the fisherman, would you be willing to catch me 5 of them for a new fashion line i'm working on?  - iris\n",
      "hey there, i heard you're quite the fisherman, would you be willing to catch me 5 crab for my latest fishing project?  - jasper\n",
      "hey there, i heard you're quite the fisherman, would you be willing to catch me 5 of them for my latest floral arrangement?  - ava.\n",
      "hey there, i heard you're quite the fisherman, would you be willing to catch me 10 mussel for my latest project?  - owen.\n",
      "hey there, i heard you're quite the fisherman, would you be willing to catch me 5 shrimp for my latest music project?  - jeremy.\n",
      "hey there, i heard you're quite the fisherman, would you be willing to catch me 5 snails for my latest research project? \n",
      "hey there, i heard you're quite the fisherman, would you be willing to catch me 5 of them for a new project i'm working on?  - jeremy.\n",
      "hey there, i heard you're quite the fisherman, would you be willing to catch me 10 of them for me?  - asher\n",
      "hey there, i heard you're quite the fisherman, would you be willing to catch me 10 of them for my latest project?  -darcy.\n",
      "hey there, i heard you're quite the fisherman, would you be willing to catch 10 of them for me?  - finn.\n",
      "hey there, i heard you're quite the fisherman, would you be willing to catch me 5 of them for me?  - grey from stardew valley.\n",
      "hey there, i heard you're quite the fisherman, would you be willing to catch me 10 slimejack for my latest jewelry project? \n",
      "hey there, i heard you're quite the fisherman, would you be willing to catch me 10 midnight squid for my latest dish?  - zeke\n",
      "hey there, i heard you're quite the fisherman, would you be willing to catch me 5 of them for me?  - ash\n",
      "hey there, i heard you're quite the fisherman, could you bring me 10 of them for a special recipe i'm working on?  - daphne.\n",
      "hey there, i heard you're quite the fisherman, would you be willing to catch me 10 stingray for my next lesson?  - penny.\n",
      "hey there, i heard you're quite the fisherman, would you be willing to catch me 10 of them for me?  - rose\n",
      "hey there, i heard you're quite the fisherman, would you be willing to catch me 5 blue discus for my latest dish?  - zachary.\n",
      "hey there, i heard you're quite the adventurer, would you be willing to help me out by collecting 10 fried egg dishes for a special event at the festival?  - riley\n",
      "hey there, i'm in need of some omelets for a new tattoo project, could you bring me 10 of them?  - charles\n",
      "hey there, i'm natalie, and i'm in need of 10 fresh salads for my latest fashion line, would you be willing to help me out? \n",
      "hey there, i heard you're quite the adventurer - could you bring me 10 of them for a special project i'm working on?  - alexia.\n",
      "hey there, farmer! i heard you're quite the fisherman, could you bring me 10 fried eels for my latest dairy project?  - jamie.\n",
      "hey there, i heard you're quite the adventurer - could you bring me 10 bowls of parsnip soup for my next woodworking project?  - trevor.\n",
      "hey there, i've been craving some fresh parsnip soup lately, could you bring me 10 of them?  - lila.\n",
      "hey there, i heard you're quite the adventurer - could you bring me 10 bowls of delicious breakfast? i need them for a special event at the local pub.  - sean.\n",
      "hey there, i heard you're quite the collector, could you bring me 5 fried calamari for my latest painting project?  -darcy.\n",
      "hey there, i heard you're quite the adventurer - could you bring me 10 bowls of spicy chowder? i need it for a special event at the local pub.  - hazel.\n",
      "hey there, i'm cassie, and i'm in need of 10 fried calamari for my latest recipe, could you bring them to me? \n",
      "hey there, i heard you're quite the adventurer, could you bring me 10 fried mushrooms for my next pottery project?  - jasper\n",
      "hey there, i heard you're quite the adventurer, could you bring me 5 pizzas for my family's dinner tonight?  - kent\n",
      "hey there, i heard you're quite the collector, could you bring me 10 of them for a special order i'm making?  - rami.\n",
      "hey there, i heard you're quite the adventurer - could you bring me 10 of them for a special order at the clinic?  - nora.\n",
      "hey there, i heard you're quite the adventurer, would you be willing to help me out by collecting 10 of them for the animal shelter's upcoming fundraiser?  - fiona.\n",
      "hey there, i heard you're quite the collector, could you bring me 10 of them? i need them for a special glassware project i'm working on.  - ruby.\n",
      "hey there, farmer! i heard you're quite the adventurer, would you be willing to help me out by collecting 10 of them for my latest plant life project?  - demetrius.\n",
      "hey there, i heard you're quite the adventurer - could you bring me 10 of them for a special dish i'm making?  - blaze\n",
      "hey there, i heard you're quite the fisherman, would you be willing to catch me 5 fish tacos for my latest floral design project?  - heather.\n",
      "hey there, i heard you're quite the adventurer, would you be willing to help me out by collecting 10 fried calamari for my next meal? \n",
      "hey there, i heard you're quite the collector, could you bring me 10 of them for a special dish i'm making?  - alice\n",
      "hey there, i heard you're quite the adventurer - could you bring me 10 of them for a special project i'm working on?  - hazel.\n",
      "hey there, i'm matt, and i'm in need of 10 tom kha soup for a special comedy show i'm performing at the comedy club, can you help me out? \n",
      "hey there, i heard you're quite the fisherman, would you be willing to catch me 10 pieces of trout soup for my next swimsuit contest?  - marco.\n",
      "hey there, i heard you're quite the adventurer, could you bring me 10 chocolate cakes for my next experiment?  - violette.\n",
      "hey there, i heard you're quite the collector, could you bring me 10 of them? i need them for a special recipe i'm working on.  - khan.\n",
      "hey there, i heard you're quite the adventurer - could you bring me 10 of them for a special project i'm working on?  - hannah.\n",
      "hey there, i heard you're quite the adventurer - could you bring me 10 of them for a special project i'm working on?  - laura\n",
      "hey there, i heard you're quite the collector, could you bring me 10 spaghetti for my latest creation?  - rose.\n",
      "hey there, i heard you're quite the adventurer, would you be willing to help me out by collecting 10 fried eels for my next class project?  - penny.\n",
      "hey there, i heard you're quite the adventurer - could you bring me 10 of them for a special occasion?  - iris.\n",
      "hey there, i heard you're quite the adventurer - could you bring me 10 bowls of sashimi for my latest fitness project?  - oscar.\n",
      "hey there, i heard you're quite the adventurer, would you be willing to help me out by collecting 10 fried calamari for my next ride through the winding roads?  - rocco\n",
      "hey there, i heard you're quite the adventurer - could you bring me 10 tortillas for my latest fashion line?  - rachel.\n",
      "hey there, i heard you're quite the adventurer, could you bring me 10 red plates for my next potluck dinner?  - violette.\n",
      "hey there, i heard you're quite the collector, could you bring me 10 of them for a special dish i'm working on?  - blaze\n",
      "hey there, i heard you're quite the adventurer, would you be willing to help me out by collecting 10 of them for me?  - leo\n",
      "hey there, i heard you're quite the adventurer - could you bring me 10 ice cream for my next coffee order?  - diana\n",
      "hey there, i heard you're quite the adventurer - could you bring me 10 of them for a special recipe i'm working on?  - willy.\n",
      "hey there, i heard you're quite the fisherman, would you be willing to catch me 10 pieces of the finest crab cakes for my next fishing trip?  - haley\n",
      "hey there, farmer! i've been craving pumpkin soup for a while now, could you bring me 10 of them?  - daphne.\n",
      "hey there, i'm grace, and i'm in need of 10 super meals for my upcoming jewelry design project, could you help me out? \n",
      "hey there, i heard you're quite the adventurer, would you be willing to help me out by collecting 10 cranberries for my latest culinary experiment? \n",
      "hey there, i heard you're quite the adventurer, would you be willing to help me out by collecting 10 pieces of fried calamari for my next expedition? \n",
      "hey there, i'm natalie, and i'm in need of 10 fresh salads for my latest fashion line, could you bring them to me? \n",
      "hey there, i heard you're quite the adventurer - could you bring me 10 of them? i'll make it worth your while!  - alex from stardew valley.\n",
      "hey there, i heard you're quite the fisherman, would you be willing to catch me 5 crab cakes for my next fishing trip?  - alex\n",
      "hey there, i'm max, and i'm in need of 10 of them for a new fitness routine i'm working on, would you be willing to help me out? \n",
      "hey there, i heard you're quite the adventurer - could you bring me 10 roots platters for my next trading trip?  - sage\n",
      "hey there, i heard you're quite the collector, could you bring me 10 triple shot espresso for my next music project?  - kiera.\n",
      "hey there, i'm in need of 10 fresh puddings for a special recipe i'm working on, would you be willing to help me out?  - rose.\n",
      "hey there, i heard you're quite the adventurer, would you be willing to help me out by collecting 10 alamides for my latest recipe?  - jasper.\n",
      "hey there, i heard you're quite the adventurer, would you be willing to help me out by collecting 10 pieces of bread for my next batch of jojamart?  - sage.\n",
      "hey there, i've been craving some plum pudding lately, could you bring me 10 of them?  - andrew.\n",
      "hey there, i've been working on a new project and i need some fresh, juicy dip for my next project, could you bring me 10 of them?  - will.\n",
      "hey there, i heard you're quite the adventurer - could you bring me 10 stir fry for my latest glassware project?  - delia.\n",
      "hey there, i heard you're quite the adventurer - could you bring me 10 of them for a special event i'm organizing?  - kara.\n",
      "hey there, i heard you're quite the adventurer - could you bring me 10 pumpkin pies for my next casino game?  - qi.\n",
      "hey there, i heard you're quite the collector, could you bring me 10 radish salads for a special project i'm working on?  - david.\n",
      "hey there, i heard you're quite the fisherman, could you bring me 10 of them for a special dish i'm making?  - jas.\n",
      "hey there, i heard you're quite the adventurer, would you be willing to help me out by collecting 10 of them for me?  - river\n",
      "hey there, i'm rachel, and i'm in need of 10 cranberry candy for a new design project, can you help me out? \n",
      "hey there, i heard you're quite the adventurer - could you bring me 10 of them for a special event i'm organizing?  - sage.\n",
      "hey there, i heard you're quite the adventurer - could you bring me 10 bowls of coleslaw for my next clinic visit?  - evan.\n",
      "hey there, i heard you're quite the collector, could you bring me 10 of them for a special event i'm organizing?  - jasmine.\n",
      "hey there, i've been hearing rumors of a new recipe for pumpkin spice lattes, could you bring me 10 of them?  - jasper.\n",
      "hey there, i heard you're quite the adventurer, could you bring me 10 bowls of chowder for my latest fashion project?  - sofia.\n",
      "hey there, i heard you're quite the fisherman, would you be willing to catch me 5 fish stew for my next experiment?  -sterling\n",
      "hey there, i heard you're quite the adventurer - could you bring me 10 pieces of escargot for my next hike?  - alex\n",
      "hey there, i'm in need of some crab bisque for a new graphic novel i'm working on, would you be willing to help me out?  -isaac.\n",
      "hey there, i heard you're quite the adventurer, would you be willing to help me out by collecting 10 pieces of maple for the festival's festivities?  - phoenixia.\n",
      "hey there, i heard you're quite the adventurer - could you bring me 10 of them for a special holiday dinner i'm planning?  - heather.\n",
      "hey there, i heard you're quite the fisherman - could you bring me 10 shrimp cocktail for my latest tattoo project?  - leo\n",
      "hey there, i heard you're quite the adventurer - could you bring me 10 ginger ale for my next fashion project?  - sean.\n",
      "hey there, i heard you're quite the adventurer - could you bring me 10 of them for a special dish i'm working on? \n",
      "hey there, i heard you're quite the adventurer, would you be willing to help me out by collecting 10 of them for me?  - luna\n",
      "hey there, i heard you're quite the adventurer - could you bring me 10 bowls of poi for my latest research project?  - luna\n",
      "hey there, i'm mason, and i'm in need of 10 tropical curry for a special event at the gym, can you help me out? \n",
      "hey there, i heard you're quite the adventurer - could you bring me 10 squid ink ravioli for my latest jewelry project?  - sierra.\n",
      "hey there, i heard you're quite the adventurer - could you bring me 10 pieces of emerald for my latest design project?  - delilah.\n",
      "hey there, i heard you're quite the collector, could you bring me 10 pieces of the elusive mineral? i need them for a new project i'm working on. \n",
      "hey there, i'm in need of 10 pieces of ruby for a new flower project, could you bring them to me?  - ava.\n",
      "hey there, i heard you're quite the adventurer, would you be willing to help me out by collecting 10 pieces of amethyst for me?  - anonyx.\n",
      "hey there, i'm in need of 10 pieces of sandstone for a new furniture project, can you help me out?  - heather.\n",
      "hey there, i'm in need of some fresh jade for a special recipe i'm working on, could you bring me 10 of them?  - teresa.\n",
      "hey there, i'm nina, and i'm in need of 10 pieces of crystal for my latest project - could you bring them to me? \n",
      "hey there, i'm in need of 10 prismatic shards for my latest flower arrangement, would you be willing to help me out?  - hana\n",
      "hey there, i'm in need of 10 pieces of quartz for a new fashion line, would you be willing to help me out?  - alex from stardew valley.\n",
      "hey there, i heard you're quite the collector, could you bring me 10 pieces of fire quartz? i need it for a new painting project i'm working on.  - luna\n",
      "hey there, i'm niamh, and i'm in need of 10 pieces of ice crystals for my latest florist creation, could you bring them to me? \n",
      "hey there, i heard you're quite the collector, could you bring me 10 earth crystals for my latest tattoo project?  - lily\n",
      "hey there, i heard you're quite the adventurer - could you bring me 10 pieces of the rarest gemstone? i'll reward you handsomely!  - jackie.\n",
      "hey there, i heard you're quite the adventurer - could you bring me 10 pieces of bixite for my latest winemaking recipe?  - fiona.\n",
      "hey there, i heard you're quite the adventurer, would you be willing to help me out by collecting 10 pieces of baryte for me?  - kieran.\n",
      "hey there, i'm in need of some rare minerals for my latest flower arrangement, would you be willing to help me out?  - hana\n",
      "hey there, i heard you're quite the adventurer, would you be willing to help me out by collecting 10 pieces of calcite for me? \n",
      "hey there, farmer! i'm in need of 10 pieces of dolomite for my latest herbal concoction, would you be willing to help me out?  - river\n",
      "hey there, i heard you're quite the adventurer, would you be willing to help me out by collecting 10 pieces of quartz for my latest research project?  - fern.\n",
      "hey there, i heard you're quite the collector, could you bring me 10 of them? i need them for a new recipe i'm working on.  - pierre.\n",
      "hey there, i heard you're quite the adventurer - could you bring me 10 pieces of geminite for my latest jazz club experiment?  - max.\n",
      "hey there, i heard you're quite the adventurer, would you be willing to help me out by collecting 10 pieces of helvite for me?  - jasper\n",
      "hey there, i heard you're quite the adventurer - could you bring me 10 pieces of jjamborite for my latest pottery project?  - finn.\n",
      "hey there, i heard you're quite the adventurer - could you bring me 10 pieces of jagoite for my gym's upcoming yoga session?  - greta.\n",
      "hey there, i heard you're quite the adventurer - could you bring me 10 pieces of kyanite for my latest design project? \n",
      "hey there, i heard you're quite the adventurer - could you bring me 10 pieces of lunarite for my latest herbal concoction? \n",
      "hey there, i heard you're quite the collector, could you bring me 10 pieces of malachite for my latest car repair project?  - donovan.\n",
      "hey there, i'm niamh, and i'm in need of 10 pieces of neptunite for my latest recipe, could you bring them to me? \n",
      "hey there, i'm in need of 10 pieces of lemon stone for a new floral design project, can you help me out?  - heather.\n",
      "hey there, i'm rachel, and i'm in need of 10 nekoite for my latest fashion line, could you bring them to me? \n",
      "hey there, i heard you're quite the collector, could you bring me 10 pieces of the rarest mineral in the mines? i need them for a special project i'm working on.  - anthony.\n",
      "hey there, i heard you're quite the adventurer - could you bring me 10 of them for my next circus exhibit?  - leo\n",
      "hey there, i heard you're quite the adventurer - could you bring me 10 thunder eggs? i need them for a new project i'm working on.  - kara\n",
      "hey there, i heard you're quite the adventurer, would you be willing to help me out by collecting 10 pieces of granite for my latest creation?  - alexa.\n",
      "hey there, i've been working on a new tattoo design and i need some minerals to complete it, could you help me out?  - chris\n",
      "hey there, i heard you're quite the collector, could you bring me 10 pieces of ghost crystal for my latest creation?  - yara.\n",
      "hey there, i heard you're quite the collector, would you be willing to help me out by collecting 10 tigerseye for a charity event i'm organizing?  -uma\n",
      "hey there, i'm in need of 10 pieces of jasper for my next winemaking recipe, could you help me out?  - pelican\n",
      "hey there, i heard you're quite the adventurer - could you bring me 10 pieces of opal for my latest creation?  - tyler.\n",
      "hey there, i heard you're quite the adventurer - could you bring me 10 pieces of opal for my next dance performance?  - maria.\n",
      "hey there, i'm max, and i'm in need of 10 pieces of calcite for a new workout routine i'm working on, think you could help me out? \n",
      "hey there, i'm in need of 10 pieces of marble for a special recipe i'm working on, would you be willing to help me out?  - teresa.\n",
      "hey there, i heard you're quite the adventurer - could you bring me 10 pieces of sandstone for my next forge project?  - blaze\n",
      "hey there, i heard you're quite the adventurer - could you bring me 10 pieces of granite for my next casino game?  - qi.\n",
      "hey there, i'm in need of some basalt for my latest calligraphy project, could you help me out?  - isadora.\n",
      "hey there, i heard you're quite the adventurer - could you bring me 10 pieces of limestone for my latest research project?  - michael.\n",
      "hey there, i'm atlas, and i'm in need of 10 pieces of sandstone for my latest cartography project, could you bring them to me? \n",
      "hey there, i'm in need of 10 pieces of the finest mineral for a new dental appointment, can you help me out?  - sarah.\n",
      "hey there, i heard you're quite the adventurer, would you be willing to help me out by collecting 10 mudstone for me?  - evan.\n",
      "hey there, i heard you're quite the collector, could you bring me 10 pieces of obsidian for my latest experiment?  - nora.\n",
      "hey there, i heard you're quite the adventurer, would you be willing to help me out by collecting 10 pieces of granite for my latest research project?  - fern.\n",
      "hey there, i heard you're quite the adventurer - could you bring me 10 fairy stones for my latest experiment?  - nora.\n",
      "hey there, i'm in need of 10 star shards for a special dish i'm working on, could you bring them to me? \n",
      "hey there, i've been hearing rumors of some rare slimes lurking around the mines, could you take care of 10 of them for me?  - george.\n",
      "hey there, i heard you're quite the adventurer - could you do me a favor and take down 10 of them for me? i need them for a new game i'm working on.  - brian.\n",
      "hey there, i heard you're quite the adventurer - could you do me a favor and take down 10 cave flys for me? i need them for a special soap i'm working on.  - lucas.\n",
      "hey there, i heard you're quite the adventurer - could you do me a favor and take down 10 of those pesky duggys for me?  - alex\n",
      "hey there, i heard you're quite the adventurer - could you do me a favor and take down 10 of them for me? i need them for a special project i'm working on.  - aaron.\n",
      "hey there, i heard you're quite the adventurer - could you do me a favor and take down 10 of them for me? i need them for a special recipe i'm working on.  - delia.\n",
      "hey there, i heard you're quite the adventurer - could you do me a favor and take down 10 of them for me? i need them for a special beekeeping project i'm working on.  - natalie\n",
      "hey there, i heard you're quite the adventurer - could you do me a favor and take down 10 of them for me? i need them for a new woodworking project i'm working on.  - alex from stardew valley.\n",
      "hey there, i heard you're quite the adventurer - could you slay 10 of them for me?  - oscar.\n",
      "hey there, i heard you're quite the adventurer, would you be willing to help me out by slaying 10 of them for me?  - lily\n",
      "hey there, i heard you're quite the adventurer, would you be willing to take on the task of slaying 10 frost bats for me?  - adam.\n",
      "hey there, i heard you're quite the adventurer - could you do me a favor and take down 10 frost jellys for me? i need them for a new sculpture i'm working on.  -sylvia\n",
      "hey there, i heard you're quite the adventurer, would you be willing to help me out by slaying 10 ghost mobs for me?  - kian.\n",
      "hey there, i heard you're quite the adventurer, would you be willing to help me out by slaying 10 of them for me?  - caleb.\n",
      "hey there, i heard you're quite the adventurer - could you do me a favor and take down 10 lava bats for me? i need them for a new botanical experiment i'm working on. \n",
      "hey there, i heard you're quite the adventurer, would you be willing to take on the task of slaying 10 lava crabs for me?  - pam.\n",
      "hey there, i heard you're quite the adventurer - could you do me a favor and take down 10 of them for me?  - finnegan.\n",
      "hey there, farmer! i heard you're quite the adventurer - could you do me a favor and take down 10 of them for me?  - zeke\n",
      "hey there, i heard you're quite the adventurer, would you be willing to help me out by slaying 10 shadow brutes for me?  - calvin.\n",
      "hey there, i heard you're quite the adventurer - could you do me a favor and take down 10 shadow shaman mobs for me? i need them for a new recipe i'm working on.  - orion\n",
      "hey there, i heard you're quite the adventurer - i need you to slay 10 squid kid mobs for me, and i'll reward you handsomely!  - marcus.\n",
      "hey there, i'm matthew and i'm in need of 10 ancient fruits for a video game i'm working on, think you could help me out? \n",
      "hey there, i heard you're quite the collector, could you bring me 10 of them? i need them for a new mural i'm working on.  - dylan.\n",
      "hey there, i heard you're quite the adventurer - could you bring me 10 of them? i'll reward you handsomely!  - indigo.\n",
      "hey there, i heard you're quite the collector, could you bring me 10 pieces of qi fruit? i need it for a special recipe i'm working on.  - fiona.\n",
      "hey there, i heard you're quite the gardener, would you be willing to help me out by collecting 10 of them for my garden?  - meadow\n",
      "hey there, i heard you're quite the collector, could you bring me 10 of them? i need them for a new recipe i'm working on.  - flora\n",
      "hey there, i heard you're quite the collector, could you bring me 10 tea leaves? i need them for a new recipe i'm working on.  - grey.\n",
      "hey there, i heard you're quite the collector, could you bring me 10 blue jazz springs? i need them for my next dance lesson!  - hazel.\n",
      "hey there, i heard you're quite the collector, could you bring me 10 of them? i'm trying to create a new jewelry line, and i need them for a special occasion. \n",
      "hey there, i heard you're quite the adventurer - could you bring me 10 of them? i'll reward you handsomely!  - leo\n",
      "hey there, i heard you're quite the adventurer, would you be willing to help me out by collecting 10 garlic for my next musical project?  - miaeve.\n",
      "hey there, i heard you're quite the collector, could you bring me 10 of them? i'll make it worth your while!  - elena\n",
      "hey there, i heard you're quite the adventurer - could you bring me 10 of them? i'll reward you handsomely!  - sienna.\n",
      "hey there, i heard you're quite the adventurer - could you bring me 10 parsnip for my latest creation? \n",
      "hey there, i heard you're quite the adventurer - could you bring me 10 of them for a special project i'm working on?  - willow\n",
      "hey there, i heard you're quite the adventurer - could you bring me 10 rhubarb for my latest circus exhibit?  - leo.\n",
      "hey there, i heard you're quite the collector, could you bring me 10 of them? i'm trying to find some rare gems to use in my latest cartography project.  - atlas\n",
      "hey there, i heard you're quite the adventurer, would you be willing to help me out by collecting 10 tulips for my daughter's birthday?  - pam.\n",
      "hey there, farmer! i heard you're quite the adventurer - could you bring me 10 fresh rice for my next excavation?  - david.\n",
      "hey there, i heard you're quite the adventurer - could you bring me 10 blueberries for my fairy tale project?  - fern\n",
      "hey there, i've been working on a new metalwork project and i need some coffee beans for it, could you bring me 10 of them?  - hank.\n",
      "hey there, i'm in need of some corn for a new fashion line, would you be willing to help me out?  - alex from stardew valley.\n",
      "hey there, i heard you're quite the adventurer - could you bring me 10 of them? i'll make it worth your while!  - stardew valley\n",
      "hey there, i heard you're quite the fisherman - could you bring me 10 hot peppers for my latest jazz project?  - max.\n",
      "hey there, i'm robin, and i'm in need of some melon for my latest furniture project - could you bring me 10 of them? \n",
      "hey there, i heard you're quite the collector, could you bring me 10 of them? i'm trying to create a new flower arrangement for my shop, would you be willing to help me out?  - ava.\n",
      "hey there, i heard you're quite the collector, could you bring me 10 radish for my latest map project?  - atlas\n",
      "hey there, i heard you're quite the collector, could you bring me 10 red cabbages for my latest sculpture?  - paige.\n",
      "hey there, i heard you're quite the collector, could you bring me 10 of them? i'm trying to create a new painting inspired by the ghostly apparitions of the ghostly apparitions.  - raul.\n",
      "hey there, i heard you're quite the collector, could you bring me 10 of them? i need them for a special project i'm working on. \n",
      "hey there, i've been searching for some sunflower for a while now, could you bring me 10 of them?  - jack.\n",
      "hey there, i'm grace, and i'm in need of 10 fresh strawberries for my latest jewelry project, could you bring them to me? \n",
      "hey there, i heard you're quite the farmer, would you be willing to help me out by collecting 10 wheat for my next painting project?  - leila\n"
     ]
    }
   ],
   "source": [
    "import json\n",
    "li = []\n",
    "with open(\"../../data/knowledge_base/kb.json\", \"r\") as f:\n",
    "    kb = json.loads(f.read())\n",
    "\n",
    "\n",
    "for key in kb.keys():\n",
    "    if key == \"locations\":\n",
    "        continue\n",
    "    elif key == \"mobs\":\n",
    "        for mob in kb[key]:\n",
    "            personality = random.choice(full_bios)\n",
    "            raw_personality = tokenizer.decode(chain(*personality))\n",
    "            \n",
    "            history = []\n",
    "            first_prompt = f\"give me a quest to slay {mob}s .\"\n",
    "            history.append(tokenizer.encode(first_prompt))\n",
    "            with torch.no_grad():\n",
    "                output = sample_sequence(personality, history, tokenizer, model)\n",
    "                first_output = tokenizer.decode(output, skip_special_tokens=True)\n",
    "                print(first_output)\n",
    "                li.append(pd.DataFrame([[first_prompt,first_output]], columns=[\"prompt\", \"output\"]))\n",
    "    else:\n",
    "        for item in kb[key]:\n",
    "            personality = random.choice(full_bios)\n",
    "            raw_personality = tokenizer.decode(chain(*personality))\n",
    "            \n",
    "            history = []\n",
    "            first_prompt = f\"give me a quest to collect {item} {key} .\"\n",
    "            history.append(tokenizer.encode(first_prompt))\n",
    "            with torch.no_grad():\n",
    "                output = sample_sequence(personality, history, tokenizer, model)\n",
    "                first_output = tokenizer.decode(output, skip_special_tokens=True)\n",
    "                print(first_output)\n",
    "                li.append(pd.DataFrame([[first_prompt,first_output]], columns=[\"prompt\", \"output\"]))\n",
    "\n",
    "test_set = pd.concat(li)"
   ]
  },
  {
   "cell_type": "code",
   "execution_count": 106,
   "metadata": {},
   "outputs": [],
   "source": [
    "test_set.to_csv(\"../../data/convo_tests/quests_outputs_4_2.csv\")"
   ]
  }
 ],
 "metadata": {
  "kernelspec": {
   "display_name": "npcenv",
   "language": "python",
   "name": "python3"
  },
  "language_info": {
   "codemirror_mode": {
    "name": "ipython",
    "version": 3
   },
   "file_extension": ".py",
   "mimetype": "text/x-python",
   "name": "python",
   "nbconvert_exporter": "python",
   "pygments_lexer": "ipython3",
   "version": "3.10.9"
  },
  "orig_nbformat": 4,
  "vscode": {
   "interpreter": {
    "hash": "f78472a4194e8f316fdf8163f9b8554bda7c889f960d27aa9d5245141252b041"
   }
  }
 },
 "nbformat": 4,
 "nbformat_minor": 2
}
